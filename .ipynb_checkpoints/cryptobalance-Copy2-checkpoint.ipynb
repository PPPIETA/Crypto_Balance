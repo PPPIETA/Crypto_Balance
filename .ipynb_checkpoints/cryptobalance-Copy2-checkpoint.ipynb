{
 "cells": [
  {
   "cell_type": "code",
   "execution_count": 29,
   "metadata": {},
   "outputs": [],
   "source": [
    "# Importing required modules\n",
    "\n",
    "import pandas as pd\n",
    "import numpy as np\n",
    "import datetime\n",
    "import os.path\n",
    "import requests\n",
    "from bs4 import BeautifulSoup"
   ]
  },
  {
   "cell_type": "code",
   "execution_count": 30,
   "metadata": {},
   "outputs": [],
   "source": [
    "#global dfcurrency\n",
    "#global dfvalue\n",
    "#global dfdollars\n",
    "#global dfpln"
   ]
  },
  {
   "cell_type": "code",
   "execution_count": 31,
   "metadata": {},
   "outputs": [],
   "source": [
    "# You can initiate your wallet using below example code\n",
    "# or fill values manually also upon execution of make_data function\n",
    "# put your currencies as shown in example into dictionary and create csv file\n",
    "\n",
    "def make_currencies(cur):\n",
    "    dfcurrency = pd.DataFrame(cur, index=[datetime.datetime.now().strftime(\"%Y-%m-%d\")])\n",
    "    dfcurrency.to_csv(\"dfcurrency.csv\")\n",
    "\n",
    "# put your currencies here:    \n",
    "    \n",
    "cur = {\"BTC\":12,\"ETH\":5,\"XRP\":105,\"LSK\":52,\"LTC\":11,\"BCH\":12,\"DASH\":15}\n",
    "\n",
    "# un-comment function and execute\n",
    "\n",
    "#make_currencies(cur)"
   ]
  },
  {
   "cell_type": "code",
   "execution_count": 32,
   "metadata": {
    "scrolled": true
   },
   "outputs": [],
   "source": [
    "# core function collecting data from coinmarketcap (requires development)\n",
    "\n",
    "def make_data(datafile):\n",
    "    if os.path.isfile(datafile+\".csv\"):\n",
    "        result=pd.read_csv(datafile+\".csv\",index_col=0,dtype=\"float\",parse_dates=True)\n",
    "        return result\n",
    "    else:\n",
    "        if datafile==\"dfcurrency\":\n",
    "            cur={}\n",
    "            while(True):\n",
    "                token=input(\"Please give me abbreviation of currency you have.\\n\\n\").upper()\n",
    "                amount=int(input(\"Please give me amount you already have\\n\\n\"))\n",
    "                cur.update({token:amount})\n",
    "                nextone=input(\"Do you want to add another? (y/n)\").lower()\n",
    "                if nextone==\"n\":\n",
    "                    break\n",
    "            result=pd.DataFrame(cur,index=[datetime.datetime.now().strftime(\"%Y-%m-%d\")])\n",
    "        elif datafile==\"dfvalue\":\n",
    "            #global dfcurrency\n",
    "            result=pd.DataFrame().reindex_like(dfcurrency).fillna(0)\n",
    "            soup=BeautifulSoup(requests.get(\"https://coinmarketcap.com/\").text,\"lxml\")\n",
    "            dateindex=datetime.datetime.now().strftime(\"%Y-%m-%d\")\n",
    "            symbol=soup.find_all(class_=\"currency-symbol\")\n",
    "            value=soup.find_all(class_=\"price\")\n",
    "            for tag,price in zip(symbol,value):\n",
    "                if tag.a.text in result.columns:\n",
    "                    result.set_value(dateindex, tag.a.text, float(price.text[1:]))\n",
    "        elif datafile==\"dfdollars\": \n",
    "            result = pd.DataFrame().reindex_like(dfcurrency).fillna(0)\n",
    "            result = dfvalue.multiply(dfcurrency.iloc[0],axis=1)\n",
    "        elif datafile==\"dfpln\":\n",
    "            soup2 = BeautifulSoup(requests.get(\"https://www.nbp.pl/kursy/kursya.html\").text,\"lxml\")\n",
    "            kurspln = float(soup2.find_all(string=\"1 USD\")[0].next_element.next_element.text.replace(\",\",\".\"))\n",
    "            result = dfdollars*kurspln\n",
    "        result.to_csv(datafile+\".csv\")\n",
    "        return result"
   ]
  },
  {
   "cell_type": "code",
   "execution_count": 33,
   "metadata": {},
   "outputs": [],
   "source": [
    "# get all data\n",
    "\n",
    "dfcurrency = make_data(\"dfcurrency\")\n",
    "dfvalue = make_data(\"dfvalue\")\n",
    "dfdollars = make_data(\"dfdollars\")\n",
    "dfpln = make_data(\"dfpln\")"
   ]
  },
  {
   "cell_type": "code",
   "execution_count": 34,
   "metadata": {},
   "outputs": [
    {
     "data": {
      "text/html": [
       "<div>\n",
       "<style scoped>\n",
       "    .dataframe tbody tr th:only-of-type {\n",
       "        vertical-align: middle;\n",
       "    }\n",
       "\n",
       "    .dataframe tbody tr th {\n",
       "        vertical-align: top;\n",
       "    }\n",
       "\n",
       "    .dataframe thead th {\n",
       "        text-align: right;\n",
       "    }\n",
       "</style>\n",
       "<table border=\"1\" class=\"dataframe\">\n",
       "  <thead>\n",
       "    <tr style=\"text-align: right;\">\n",
       "      <th></th>\n",
       "      <th>BCH</th>\n",
       "      <th>BTC</th>\n",
       "      <th>DASH</th>\n",
       "      <th>ETH</th>\n",
       "      <th>LSK</th>\n",
       "      <th>LTC</th>\n",
       "      <th>XRP</th>\n",
       "    </tr>\n",
       "  </thead>\n",
       "  <tbody>\n",
       "    <tr>\n",
       "      <th>2018-02-20</th>\n",
       "      <td>12.0</td>\n",
       "      <td>12.0</td>\n",
       "      <td>15.0</td>\n",
       "      <td>5.0</td>\n",
       "      <td>52.0</td>\n",
       "      <td>11.0</td>\n",
       "      <td>105.0</td>\n",
       "    </tr>\n",
       "  </tbody>\n",
       "</table>\n",
       "</div>"
      ],
      "text/plain": [
       "             BCH   BTC  DASH  ETH   LSK   LTC    XRP\n",
       "2018-02-20  12.0  12.0  15.0  5.0  52.0  11.0  105.0"
      ]
     },
     "execution_count": 34,
     "metadata": {},
     "output_type": "execute_result"
    }
   ],
   "source": [
    "# show csv with amount of currencies you have\n",
    "\n",
    "dfcurrency"
   ]
  },
  {
   "cell_type": "code",
   "execution_count": 35,
   "metadata": {},
   "outputs": [],
   "source": [
    "#dfcurrency.rename(index={1: 'a'}, inplace=False)"
   ]
  },
  {
   "cell_type": "code",
   "execution_count": 36,
   "metadata": {},
   "outputs": [
    {
     "data": {
      "text/html": [
       "<div>\n",
       "<style scoped>\n",
       "    .dataframe tbody tr th:only-of-type {\n",
       "        vertical-align: middle;\n",
       "    }\n",
       "\n",
       "    .dataframe tbody tr th {\n",
       "        vertical-align: top;\n",
       "    }\n",
       "\n",
       "    .dataframe thead th {\n",
       "        text-align: right;\n",
       "    }\n",
       "</style>\n",
       "<table border=\"1\" class=\"dataframe\">\n",
       "  <thead>\n",
       "    <tr style=\"text-align: right;\">\n",
       "      <th></th>\n",
       "      <th>BCH</th>\n",
       "      <th>BTC</th>\n",
       "      <th>DASH</th>\n",
       "      <th>ETH</th>\n",
       "      <th>LSK</th>\n",
       "      <th>LTC</th>\n",
       "      <th>XRP</th>\n",
       "    </tr>\n",
       "  </thead>\n",
       "  <tbody>\n",
       "    <tr>\n",
       "      <th>2018-02-20</th>\n",
       "      <td>1512.73</td>\n",
       "      <td>11787.3</td>\n",
       "      <td>729.27</td>\n",
       "      <td>932.32</td>\n",
       "      <td>31.57</td>\n",
       "      <td>245.26</td>\n",
       "      <td>1.13</td>\n",
       "    </tr>\n",
       "  </tbody>\n",
       "</table>\n",
       "</div>"
      ],
      "text/plain": [
       "                BCH      BTC    DASH     ETH    LSK     LTC   XRP\n",
       "2018-02-20  1512.73  11787.3  729.27  932.32  31.57  245.26  1.13"
      ]
     },
     "execution_count": 36,
     "metadata": {},
     "output_type": "execute_result"
    }
   ],
   "source": [
    "# show csv with exchange rate of currencies you have\n",
    "\n",
    "dfvalue"
   ]
  },
  {
   "cell_type": "code",
   "execution_count": 37,
   "metadata": {},
   "outputs": [
    {
     "data": {
      "text/html": [
       "<div>\n",
       "<style scoped>\n",
       "    .dataframe tbody tr th:only-of-type {\n",
       "        vertical-align: middle;\n",
       "    }\n",
       "\n",
       "    .dataframe tbody tr th {\n",
       "        vertical-align: top;\n",
       "    }\n",
       "\n",
       "    .dataframe thead th {\n",
       "        text-align: right;\n",
       "    }\n",
       "</style>\n",
       "<table border=\"1\" class=\"dataframe\">\n",
       "  <thead>\n",
       "    <tr style=\"text-align: right;\">\n",
       "      <th></th>\n",
       "      <th>BCH</th>\n",
       "      <th>BTC</th>\n",
       "      <th>DASH</th>\n",
       "      <th>ETH</th>\n",
       "      <th>LSK</th>\n",
       "      <th>LTC</th>\n",
       "      <th>XRP</th>\n",
       "    </tr>\n",
       "  </thead>\n",
       "  <tbody>\n",
       "    <tr>\n",
       "      <th>2018-02-20</th>\n",
       "      <td>18152.76</td>\n",
       "      <td>141447.6</td>\n",
       "      <td>10939.05</td>\n",
       "      <td>4661.6</td>\n",
       "      <td>1641.64</td>\n",
       "      <td>2697.86</td>\n",
       "      <td>118.65</td>\n",
       "    </tr>\n",
       "  </tbody>\n",
       "</table>\n",
       "</div>"
      ],
      "text/plain": [
       "                 BCH       BTC      DASH     ETH      LSK      LTC     XRP\n",
       "2018-02-20  18152.76  141447.6  10939.05  4661.6  1641.64  2697.86  118.65"
      ]
     },
     "execution_count": 37,
     "metadata": {},
     "output_type": "execute_result"
    }
   ],
   "source": [
    "# show csv with USD value of currencies you have\n",
    "\n",
    "dfdollars"
   ]
  },
  {
   "cell_type": "code",
   "execution_count": 38,
   "metadata": {},
   "outputs": [
    {
     "data": {
      "text/plain": [
       "'179659.16 USD'"
      ]
     },
     "execution_count": 38,
     "metadata": {},
     "output_type": "execute_result"
    }
   ],
   "source": [
    "# show total value in dollars of currencies you have\n",
    "\n",
    "'{:.2f} USD'.format(dfdollars.sum(axis=1)[0])"
   ]
  },
  {
   "cell_type": "code",
   "execution_count": 39,
   "metadata": {},
   "outputs": [
    {
     "data": {
      "text/html": [
       "<div>\n",
       "<style scoped>\n",
       "    .dataframe tbody tr th:only-of-type {\n",
       "        vertical-align: middle;\n",
       "    }\n",
       "\n",
       "    .dataframe tbody tr th {\n",
       "        vertical-align: top;\n",
       "    }\n",
       "\n",
       "    .dataframe thead th {\n",
       "        text-align: right;\n",
       "    }\n",
       "</style>\n",
       "<table border=\"1\" class=\"dataframe\">\n",
       "  <thead>\n",
       "    <tr style=\"text-align: right;\">\n",
       "      <th></th>\n",
       "      <th>BCH</th>\n",
       "      <th>BTC</th>\n",
       "      <th>DASH</th>\n",
       "      <th>ETH</th>\n",
       "      <th>LSK</th>\n",
       "      <th>LTC</th>\n",
       "      <th>XRP</th>\n",
       "    </tr>\n",
       "  </thead>\n",
       "  <tbody>\n",
       "    <tr>\n",
       "      <th>2018-02-20</th>\n",
       "      <td>60987.827772</td>\n",
       "      <td>475221.50172</td>\n",
       "      <td>36751.926285</td>\n",
       "      <td>15661.57752</td>\n",
       "      <td>5515.417908</td>\n",
       "      <td>9064.000242</td>\n",
       "      <td>398.628405</td>\n",
       "    </tr>\n",
       "  </tbody>\n",
       "</table>\n",
       "</div>"
      ],
      "text/plain": [
       "                     BCH           BTC          DASH          ETH  \\\n",
       "2018-02-20  60987.827772  475221.50172  36751.926285  15661.57752   \n",
       "\n",
       "                    LSK          LTC         XRP  \n",
       "2018-02-20  5515.417908  9064.000242  398.628405  "
      ]
     },
     "execution_count": 39,
     "metadata": {},
     "output_type": "execute_result"
    }
   ],
   "source": [
    "# show csv with PLN value of currencies you have\n",
    "\n",
    "dfpln"
   ]
  },
  {
   "cell_type": "code",
   "execution_count": 40,
   "metadata": {},
   "outputs": [
    {
     "data": {
      "text/plain": [
       "'603600.88 PLN'"
      ]
     },
     "execution_count": 40,
     "metadata": {},
     "output_type": "execute_result"
    }
   ],
   "source": [
    "# show total value in polish zloty of currencies you have\n",
    "\n",
    "'{:.2f} PLN'.format(dfpln.sum(axis=1)[0])"
   ]
  },
  {
   "cell_type": "code",
   "execution_count": null,
   "metadata": {},
   "outputs": [],
   "source": []
  }
 ],
 "metadata": {
  "kernelspec": {
   "display_name": "Python 3",
   "language": "python",
   "name": "python3"
  },
  "language_info": {
   "codemirror_mode": {
    "name": "ipython",
    "version": 3
   },
   "file_extension": ".py",
   "mimetype": "text/x-python",
   "name": "python",
   "nbconvert_exporter": "python",
   "pygments_lexer": "ipython3",
   "version": "3.6.4"
  }
 },
 "nbformat": 4,
 "nbformat_minor": 2
}
